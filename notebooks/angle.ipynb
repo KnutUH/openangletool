{
 "cells": [
  {
   "cell_type": "code",
   "execution_count": 1,
   "id": "1da3f571",
   "metadata": {},
   "outputs": [],
   "source": [
    "import math\n",
    "import numpy as np\n",
    "import matplotlib.pyplot as plt\n",
    "import matplotlib.path as mpath\n",
    "import matplotlib.patches as mpatches"
   ]
  },
  {
   "cell_type": "code",
   "execution_count": null,
   "id": "0f3cffe5",
   "metadata": {},
   "outputs": [],
   "source": [
    "# Sharpening input\n",
    "d_w = 250\n",
    "l_p = 139\n",
    "beta = math.radians(15)"
   ]
  },
  {
   "cell_type": "code",
   "execution_count": 4,
   "id": "10c89703",
   "metadata": {},
   "outputs": [],
   "source": [
    "# Machine settings\n",
    "d_s = 12\n",
    "d_j = 12\n",
    "o_s = 50\n",
    "h_c = 29"
   ]
  },
  {
   "cell_type": "code",
   "execution_count": 34,
   "id": "5e6f8dc5",
   "metadata": {},
   "outputs": [],
   "source": [
    "# for plotting\n",
    "T8_width = 230  # actually 250, but this looks better\n",
    "T8_height = 230\n",
    "T8_height_to_curve = 175\n",
    "T8_width_between_curves = 160"
   ]
  },
  {
   "cell_type": "code",
   "execution_count": 40,
   "id": "f60918c1",
   "metadata": {},
   "outputs": [
    {
     "name": "stdout",
     "output_type": "stream",
     "text": [
      "sj: 12.0\n",
      "tj: 133.0\n",
      "ts: 133.5402561027947\n",
      "alpha: 0.08998192120292317\n",
      "alpha in degrees: 5.155584317406233\n"
     ]
    }
   ],
   "source": [
    "sj = (d_s + d_j)/2\n",
    "tj = l_p - d_s/2\n",
    "ts = math.sqrt(sj**2+tj**2)\n",
    "alpha = math.atan(sj/tj)\n",
    "\n",
    "print(f'sj: {sj}')\n",
    "print(f'tj: {tj}')\n",
    "print(f'ts: {ts}')\n",
    "print(f'alpha: {alpha}')\n",
    "print(f'alpha in degrees: {np.degrees(alpha)}')"
   ]
  },
  {
   "cell_type": "code",
   "execution_count": 7,
   "id": "da00c5be",
   "metadata": {},
   "outputs": [
    {
     "name": "stdout",
     "output_type": "stream",
     "text": [
      "my: 1.7426137933911228\n",
      "my in degrees: 99.84441568259376\n"
     ]
    }
   ],
   "source": [
    "my = beta + math.pi/2 - alpha\n",
    "\n",
    "print(f'my: {my}')\n",
    "print(f'my in degrees: {np.degrees(my)}')"
   ]
  },
  {
   "cell_type": "code",
   "execution_count": 8,
   "id": "f6aa0bdd",
   "metadata": {},
   "outputs": [
    {
     "name": "stdout",
     "output_type": "stream",
     "text": [
      "r: 125.0\n",
      "os: 197.9039053955015\n",
      "h_r: 78.90390539550151\n"
     ]
    }
   ],
   "source": [
    "r = d_w/2\n",
    "os = math.sqrt(ts**2 + r**2 - 2*ts*r*math.cos(my))\n",
    "h_r = os - r + d_s/2\n",
    "\n",
    "print(f'r: {r}')\n",
    "print(f'os: {os}')\n",
    "print(f'h_r: {h_r}')"
   ]
  },
  {
   "cell_type": "code",
   "execution_count": 9,
   "id": "8bb71b07",
   "metadata": {},
   "outputs": [
    {
     "data": {
      "text/plain": [
       "168.4835652759568"
      ]
     },
     "execution_count": 9,
     "metadata": {},
     "output_type": "execute_result"
    }
   ],
   "source": [
    "sx = math.sqrt(os**2 - o_s**2)\n",
    "h_n = sx - h_c + d_s/2\n",
    "h_n"
   ]
  },
  {
   "cell_type": "code",
   "execution_count": 10,
   "id": "3de3f44e",
   "metadata": {},
   "outputs": [
    {
     "name": "stdout",
     "output_type": "stream",
     "text": [
      "alpha_2: 41.669870019063865\n",
      "alpha_3: 75.3657450615755\n",
      "alpha_4: 62.96438491936065\n",
      "alpha_5: 27.03561508063935\n"
     ]
    }
   ],
   "source": [
    "alpha_2 = math.acos((r*r - ts*ts + os*os)/(2*r*os))\n",
    "alpha_3 = math.acos(o_s/os)\n",
    "alpha_4 = math.pi - alpha_3 - alpha_2\n",
    "alpha_5 = math.pi/2 - alpha_4\n",
    "tx = r * math.cos(alpha_5)\n",
    "xo = r * math.sin(alpha_5)\n",
    "for i in [2,3,4,5]:\n",
    "    a = 'alpha_'+ str(i)\n",
    "    print(f'alpha_{i}: {math.degrees(eval(a))}')"
   ]
  },
  {
   "cell_type": "code",
   "execution_count": 41,
   "id": "d909b490",
   "metadata": {},
   "outputs": [],
   "source": [
    "axel_center = (0, 0)\n",
    "support_center = (o_s, h_c + h_n - d_s/2)\n",
    "tipp = (-xo, tx)"
   ]
  },
  {
   "cell_type": "code",
   "execution_count": 39,
   "id": "c4027764",
   "metadata": {},
   "outputs": [
    {
     "data": {
      "text/plain": [
       "(-150.0, 217.40774353975465)"
      ]
     },
     "execution_count": 39,
     "metadata": {},
     "output_type": "execute_result"
    },
    {
     "data": {
      "image/png": "[encoded data removed]",
      "text/plain": [
       "<Figure size 640x480 with 1 Axes>"
      ]
     },
     "metadata": {},
     "output_type": "display_data"
    }
   ],
   "source": [
    "points = [axel_center, support_center, tipp]\n",
    "\n",
    "fig, ax = plt.subplots()\n",
    "\n",
    "plt.scatter(*zip(*points), marker=\"x\", c='black')\n",
    "ax.set_aspect('equal')\n",
    "\n",
    "T8_base = h_c - T8_height\n",
    "T8_top = h_c\n",
    "\n",
    "Path = mpath.Path\n",
    "path_data = [\n",
    "    (Path.MOVETO, (-T8_width/2, T8_base)),\n",
    "    (Path.LINETO, (T8_width/2, T8_base)),\n",
    "    (Path.LINETO, (T8_width/2, T8_base + T8_height_to_curve)),\n",
    "    (Path.LINETO, (T8_width_between_curves/2, T8_top)),\n",
    "    (Path.LINETO, (-T8_width_between_curves/2, T8_top)),\n",
    "    (Path.LINETO, (-T8_width/2,T8_base + T8_height_to_curve)),\n",
    "    (Path.CLOSEPOLY, (-T8_width/2, T8_base)),\n",
    "    ]\n",
    "codes, verts = zip(*path_data)\n",
    "T8_path = mpath.Path(verts, codes)\n",
    "T8 = mpatches.PathPatch(T8_path, alpha=0.3)\n",
    "ax.add_patch(T8)\n",
    "\n",
    "support = mpatches.Circle(support_center, radius=d_s/2, alpha=0.4)\n",
    "ax.add_patch(support)\n",
    "\n",
    "stone = mpatches.Circle(axel_center, radius=d_w/2, alpha=0.4, color='grey')\n",
    "ax.add_patch(stone)\n",
    "\n",
    "ax.axis('off')\n",
    "ax.set_ylim(bottom=-150)\n"
   ]
  },
  {
   "cell_type": "code",
   "execution_count": null,
   "id": "8fd9529b",
   "metadata": {},
   "outputs": [],
   "source": []
  }
 ],
 "metadata": {
  "kernelspec": {
   "display_name": "Python 3 (ipykernel)",
   "language": "python",
   "name": "python3"
  },
  "language_info": {
   "codemirror_mode": {
    "name": "ipython",
    "version": 3
   },
   "file_extension": ".py",
   "mimetype": "text/x-python",
   "name": "python",
   "nbconvert_exporter": "python",
   "pygments_lexer": "ipython3",
   "version": "3.11.1"
  }
 },
 "nbformat": 4,
 "nbformat_minor": 5
}
