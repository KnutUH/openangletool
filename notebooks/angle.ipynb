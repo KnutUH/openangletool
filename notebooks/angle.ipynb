{
 "cells": [
  {
   "cell_type": "code",
   "execution_count": 1,
   "id": "4cdb26fc",
   "metadata": {},
   "outputs": [],
   "source": [
    "import math\n",
    "import matplotlib.pyplot as plt\n",
    "import matplotlib.path as mpath\n",
    "import matplotlib.patches as mpatches"
   ]
  },
  {
   "cell_type": "code",
   "execution_count": 2,
   "id": "78710688",
   "metadata": {},
   "outputs": [],
   "source": [
    "# Sharpening input\n",
    "d_w = 215\n",
    "l_p = 80\n",
    "beta = math.radians(12)"
   ]
  },
  {
   "cell_type": "code",
   "execution_count": 3,
   "id": "71a9d9e1",
   "metadata": {},
   "outputs": [],
   "source": [
    "# Machine settings\n",
    "d_s = 12\n",
    "d_j = 12\n",
    "o_s = 50\n",
    "h_c = 29"
   ]
  },
  {
   "cell_type": "code",
   "execution_count": 4,
   "id": "1f4b6b02",
   "metadata": {},
   "outputs": [],
   "source": [
    "# calculate the angle to correct for the thickness of the jig\n",
    "sj = (d_s + d_j)/2\n",
    "tj = l_p - d_s/2\n",
    "ts = math.sqrt(sj**2+tj**2)\n",
    "alpha = math.atan(sj/tj)"
   ]
  },
  {
   "cell_type": "code",
   "execution_count": 5,
   "id": "b2e7d63b",
   "metadata": {},
   "outputs": [],
   "source": [
    "# using https://en.wikipedia.org/wiki/Law_of_cosines to calculate h_r and h_n\n",
    "my = beta + math.pi/2 - alpha\n",
    "r = d_w/2\n",
    "os = math.sqrt(ts**2 + r**2 - 2*ts*r*math.cos(my))\n",
    "h_r = os - r + d_s/2\n",
    "sx = math.sqrt(os**2 - o_s**2)\n",
    "h_n = sx - h_c + d_s/2"
   ]
  },
  {
   "cell_type": "code",
   "execution_count": 6,
   "id": "4b2830d6",
   "metadata": {},
   "outputs": [
    {
     "name": "stdout",
     "output_type": "stream",
     "text": [
      "h_r:  32.5\n",
      "h_n:  101.3\n"
     ]
    }
   ],
   "source": [
    "print(f'h_r: {h_r: .1f}')\n",
    "print(f'h_n: {h_n: .1f}')"
   ]
  },
  {
   "cell_type": "markdown",
   "id": "8a20416e",
   "metadata": {},
   "source": [
    "## Plotting"
   ]
  },
  {
   "cell_type": "code",
   "execution_count": 7,
   "id": "30eacc17",
   "metadata": {},
   "outputs": [],
   "source": [
    "alpha_2 = math.acos((r**2 - ts**2 + os**2)/(2*r*os))\n",
    "alpha_3 = math.acos(o_s/os)\n",
    "alpha_4 = math.pi - alpha_3 - alpha_2\n",
    "alpha_5 = math.pi/2 - alpha_4\n",
    "tx = r * math.cos(alpha_5)\n",
    "xo = r * math.sin(alpha_5)"
   ]
  },
  {
   "cell_type": "code",
   "execution_count": 8,
   "id": "5b8f42ce",
   "metadata": {},
   "outputs": [],
   "source": [
    "axel_center = (0, 0)\n",
    "support_center = (o_s, h_c + h_n - d_s/2)\n",
    "tipp = (-xo, tx)"
   ]
  },
  {
   "cell_type": "code",
   "execution_count": 9,
   "id": "05914ac4",
   "metadata": {},
   "outputs": [],
   "source": [
    "# for plotting\n",
    "T8_width = 230  # actually 250, but this looks better\n",
    "T8_height = 230\n",
    "T8_height_to_curve = 175\n",
    "T8_width_between_curves = 160"
   ]
  },
  {
   "cell_type": "code",
   "execution_count": 10,
   "id": "0e370b23",
   "metadata": {},
   "outputs": [
    {
     "data": {
      "text/plain": [
       "(-150.0, 146.90728961109988)"
      ]
     },
     "execution_count": 10,
     "metadata": {},
     "output_type": "execute_result"
    },
    {
     "data": {
      "image/png": "[encoded data removed]",
      "text/plain": [
       "<Figure size 640x480 with 1 Axes>"
      ]
     },
     "metadata": {},
     "output_type": "display_data"
    }
   ],
   "source": [
    "points = [axel_center, support_center, tipp]\n",
    "\n",
    "fig, ax = plt.subplots()\n",
    "\n",
    "plt.scatter(*zip(*points), marker=\"x\", c='black')\n",
    "ax.set_aspect('equal')\n",
    "\n",
    "T8_base = h_c - T8_height\n",
    "T8_top = h_c\n",
    "\n",
    "Path = mpath.Path\n",
    "path_data = [\n",
    "    (Path.MOVETO, (-T8_width/2, T8_base)),\n",
    "    (Path.LINETO, (T8_width/2, T8_base)),\n",
    "    (Path.LINETO, (T8_width/2, T8_base + T8_height_to_curve)),\n",
    "    (Path.LINETO, (T8_width_between_curves/2, T8_top)),\n",
    "    (Path.LINETO, (-T8_width_between_curves/2, T8_top)),\n",
    "    (Path.LINETO, (-T8_width/2,T8_base + T8_height_to_curve)),\n",
    "    (Path.CLOSEPOLY, (-T8_width/2, T8_base)),\n",
    "    ]\n",
    "codes, verts = zip(*path_data)\n",
    "T8_path = mpath.Path(verts, codes)\n",
    "T8 = mpatches.PathPatch(T8_path, alpha=0.3)\n",
    "ax.add_patch(T8)\n",
    "\n",
    "support = mpatches.Circle(support_center, radius=d_s/2, alpha=0.4)\n",
    "ax.add_patch(support)\n",
    "\n",
    "stone = mpatches.Circle(axel_center, radius=d_w/2, alpha=0.4, color='grey')\n",
    "ax.add_patch(stone)\n",
    "\n",
    "ax.axis('off')\n",
    "ax.set_ylim(bottom=-150)\n"
   ]
  }
 ],
 "metadata": {
  "kernelspec": {
   "display_name": "Python 3 (ipykernel)",
   "language": "python",
   "name": "python3"
  },
  "language_info": {
   "codemirror_mode": {
    "name": "ipython",
    "version": 3
   },
   "file_extension": ".py",
   "mimetype": "text/x-python",
   "name": "python",
   "nbconvert_exporter": "python",
   "pygments_lexer": "ipython3",
   "version": "3.11.1"
  }
 },
 "nbformat": 4,
 "nbformat_minor": 5
}
