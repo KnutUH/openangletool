{
 "cells": [
  {
   "cell_type": "code",
   "execution_count": 1,
   "id": "4cdb26fc",
   "metadata": {},
   "outputs": [],
   "source": [
    "import math\n",
    "import matplotlib.pyplot as plt\n",
    "import matplotlib.path as mpath\n",
    "import matplotlib.patches as mpatches\n",
    "from matplotlib.patches import Rectangle\n",
    "from angle_utils import AngleAnnotation"
   ]
  },
  {
   "cell_type": "code",
   "execution_count": 2,
   "id": "78710688",
   "metadata": {},
   "outputs": [],
   "source": [
    "# Sharpening input\n",
    "d_w = 250 # diameter of the grinding or honing wheel\n",
    "l_p = 151 # distance from apex to outside support\n",
    "beta = math.radians(15)"
   ]
  },
  {
   "cell_type": "code",
   "execution_count": 3,
   "id": "81281a02",
   "metadata": {},
   "outputs": [],
   "source": [
    "# Add offset if the apex is offset from the centerline of the jig e.g., if the bevel is single sided \n",
    "# (e.g, a chissel, offset=half blade thickness) or grinding an asymetric pocket knife (+/- 8 on my\n",
    "# Leatherman Wave on the SVM-00)\n",
    "apex_offset = -3"
   ]
  },
  {
   "cell_type": "code",
   "execution_count": 4,
   "id": "71a9d9e1",
   "metadata": {},
   "outputs": [],
   "source": [
    "# Machine settings\n",
    "d_s = 12 # diameter of the support\n",
    "d_j = 12 # diameter or thickness of the jig\n",
    "o_s = 50 # offset of the support horizontally\n",
    "h_c = 29 "
   ]
  },
  {
   "cell_type": "code",
   "execution_count": 5,
   "id": "1f4b6b02",
   "metadata": {},
   "outputs": [],
   "source": [
    "# calculate the angle to correct for the thickness of the jig and the apex\n",
    "sj = (d_s + d_j)/2 + apex_offset\n",
    "tj = l_p - d_s/2\n",
    "ts = math.sqrt(sj**2+tj**2)\n",
    "alpha = math.atan(sj/tj)"
   ]
  },
  {
   "cell_type": "code",
   "execution_count": 6,
   "id": "b2e7d63b",
   "metadata": {},
   "outputs": [
    {
     "name": "stdout",
     "output_type": "stream",
     "text": [
      "h_r:  90.6\n"
     ]
    },
    {
     "data": {
      "text/plain": [
       "209.61836101786497"
      ]
     },
     "execution_count": 6,
     "metadata": {},
     "output_type": "execute_result"
    }
   ],
   "source": [
    "# using https://en.wikipedia.org/wiki/Law_of_cosines to calculate h_r and h_n\n",
    "my = beta + math.pi/2 - alpha\n",
    "r = d_w/2\n",
    "os = math.sqrt(ts**2 + r**2 - 2*ts*r*math.cos(my))\n",
    "h_r = os - r + d_s/2\n",
    "print(f'h_r: {h_r: .1f}')\n",
    "os"
   ]
  },
  {
   "cell_type": "code",
   "execution_count": 7,
   "id": "4b2830d6",
   "metadata": {},
   "outputs": [
    {
     "name": "stdout",
     "output_type": "stream",
     "text": [
      "h_n:  180.6\n"
     ]
    }
   ],
   "source": [
    "sx = math.sqrt(os**2 - o_s**2)\n",
    "h_n = sx - h_c + d_s/2\n",
    "print(f'h_n: {h_n: .1f}')"
   ]
  },
  {
   "cell_type": "markdown",
   "id": "8a20416e",
   "metadata": {},
   "source": [
    "## Plotting"
   ]
  },
  {
   "cell_type": "code",
   "execution_count": 8,
   "id": "30eacc17",
   "metadata": {},
   "outputs": [],
   "source": [
    "alpha_2 = math.acos((r**2 - ts**2 + os**2)/(2*r*os))\n",
    "alpha_3 = math.acos(o_s/os)\n",
    "alpha_4 = math.pi - alpha_3 - alpha_2\n",
    "alpha_5 = 0.5 * math.pi - alpha_4\n",
    "alpha_6 = beta + alpha_5\n",
    "tx = r * math.cos(alpha_5) #\n",
    "xo = r * math.sin(alpha_5)\n",
    "jx = tx + tj * math.sin(alpha_6) \n",
    "jo = tj * math.cos(alpha_6) - xo"
   ]
  },
  {
   "cell_type": "code",
   "execution_count": 9,
   "id": "44833a90",
   "metadata": {},
   "outputs": [
    {
     "name": "stdout",
     "output_type": "stream",
     "text": [
      "Beta: 14.999999999999998\n",
      "alpha: 3.551733354820403\n",
      "alpha2: 42.78705367995391\n",
      "alpha3: 76.20027932621858\n",
      "alpha4: 61.012666993827516\n",
      "alpha5: 28.98733300617248\n",
      "alpha6: 43.98733300617248\n"
     ]
    }
   ],
   "source": [
    "print(\"Beta:\", math.degrees(beta))\n",
    "print(\"alpha:\", math.degrees(alpha))\n",
    "print(\"alpha2:\", math.degrees(alpha_2))\n",
    "print(\"alpha3:\", math.degrees(alpha_3))\n",
    "print(\"alpha4:\", math.degrees(alpha_4))\n",
    "print(\"alpha5:\", math.degrees(alpha_5))\n",
    "print(\"alpha6:\", math.degrees(alpha_6))"
   ]
  },
  {
   "cell_type": "code",
   "execution_count": 10,
   "id": "5b8f42ce",
   "metadata": {},
   "outputs": [],
   "source": [
    "axel_center = (0, 0)\n",
    "support_center = (os * math.cos(alpha_3), os * math.sin(alpha_3))\n",
    "# support_center = (o_s, h_c + h_n - d_s/2)\n",
    "tipp = (-xo, tx)\n",
    "jig_ref = (jo, jx)\n",
    "\n",
    "tangent_1 = (-r, tx - (r - xo) * math.tan(alpha_5))\n",
    "tangent_2 = (r, tx + (xo + r) * math.tan(alpha_5))"
   ]
  },
  {
   "cell_type": "code",
   "execution_count": 11,
   "id": "05914ac4",
   "metadata": {},
   "outputs": [],
   "source": [
    "# for plotting\n",
    "T8_width = 230  # actually 250, but this looks better\n",
    "T8_height = 230\n",
    "T8_height_to_curve = 175\n",
    "T8_width_between_curves = 160\n",
    "T8_base = h_c - T8_height\n",
    "T8_top = h_c\n",
    "\n",
    "t8_vertices = [\n",
    "    (-T8_width/2, T8_base),\n",
    "    (T8_width/2, T8_base),\n",
    "    (T8_width/2, T8_base + T8_height_to_curve),\n",
    "    (T8_width_between_curves/2, T8_top),\n",
    "    (-T8_width_between_curves/2, T8_top),\n",
    "    (-T8_width/2,T8_base + T8_height_to_curve),\n",
    "    (-T8_width/2, T8_base)\n",
    "]"
   ]
  },
  {
   "cell_type": "code",
   "execution_count": 12,
   "id": "fa5daf83",
   "metadata": {},
   "outputs": [],
   "source": [
    "def simple_closed_path(vertices):\n",
    "    return mpath.Path([*vertices, vertices[0]], closed=True)"
   ]
  },
  {
   "cell_type": "code",
   "execution_count": 13,
   "id": "b0fc1d04",
   "metadata": {},
   "outputs": [],
   "source": [
    "def jig_path(tp, p_l, angle, r_j, r_s):\n",
    "    r2 = r_j + 2 * r_s\n",
    "    l = l_p * 0.8\n",
    "    pt0 = (tp[0] + l_p * math.cos(angle), tp[1] + l_p * math.sin(angle))\n",
    "    pt1 = (pt0[0] + r_j * math.sin(angle), pt0[1] - r_j * math.cos(angle))\n",
    "    pt2 = (pt0[0] + r2 * math.sin(angle), pt0[1] - r2 * math.cos(angle))\n",
    "    pt3 = (pt2[0] + r_j * math.cos(angle), pt2[1] + r_j * math.sin(angle))\n",
    "    pt5 = (pt0[0] - r2 * math.sin(angle), pt0[1] + r2 * math.cos(angle))\n",
    "    pt4 = (pt5[0] + r_j * math.cos(angle), pt5[1] + r_j * math.sin(angle))\n",
    "    pt6 = (pt0[0] - r_j * math.sin(angle), pt0[1] + r_j * math.cos(angle))\n",
    "    pt7 = (pt6[0] - l * math.cos(angle), pt6[1] - l * math.sin(angle))\n",
    "    pt8 = (pt1[0] - l * math.cos(angle), pt1[1] - l * math.sin(angle))\n",
    "    return simple_closed_path([pt1, pt2, pt3, pt4, pt5, pt6, pt7, pt8, pt1])\n",
    "    \n"
   ]
  },
  {
   "cell_type": "code",
   "execution_count": null,
   "id": "4c0bdac7",
   "metadata": {},
   "outputs": [],
   "source": [
    "jig_and_blade(tip_point, lenght, jig_width):\n",
    "    pass\n",
    "    \n",
    "    "
   ]
  },
  {
   "cell_type": "code",
   "execution_count": 14,
   "id": "8531dbfc",
   "metadata": {},
   "outputs": [],
   "source": [
    "def blade_path(apex, ):\n",
    "    pass"
   ]
  },
  {
   "cell_type": "code",
   "execution_count": 16,
   "id": "0e370b23",
   "metadata": {
    "scrolled": true
   },
   "outputs": [
    {
     "data": {
      "text/plain": [
       "(-100.0, 252.9445389932713)"
      ]
     },
     "execution_count": 16,
     "metadata": {},
     "output_type": "execute_result"
    },
    {
     "data": {
      "image/png": "[encoded data removed]",
      "text/plain": [
       "<Figure size 640x480 with 1 Axes>"
      ]
     },
     "metadata": {},
     "output_type": "display_data"
    }
   ],
   "source": [
    "points = [axel_center, support_center, tipp, jig_ref]\n",
    "\n",
    "fig, ax = plt.subplots()\n",
    "ax.set_aspect('equal')\n",
    "\n",
    "jig = mpatches.PathPatch(jig_path(tipp, l_p, alpha_6, d_j/2, d_s/2), alpha=0.4, color='grey') \n",
    "ax.add_patch(jig)\n",
    "\n",
    "plt.scatter(*zip(*points), s=10, marker=\".\", c='black')\n",
    "\n",
    "T8 = mpatches.PathPatch(simple_closed_path(t8_vertices), alpha=0.3)\n",
    "ax.add_patch(T8)\n",
    "\n",
    "support = mpatches.Circle(support_center, radius=d_s/2, alpha=0.4, ec='black')\n",
    "ax.add_patch(support)\n",
    "\n",
    "stone = mpatches.Circle(axel_center, radius=d_w/2, alpha=0.4, color='grey')\n",
    "ax.add_patch(stone)\n",
    "\n",
    "correction_triangle = mpatches.PathPatch(simple_closed_path([axel_center, support_center, tipp]), alpha=0.1)\n",
    "ax.add_patch(correction_triangle)\n",
    "\n",
    "main_triangle = mpatches.PathPatch(simple_closed_path([tipp, support_center, jig_ref]), color='red', alpha=0.1)\n",
    "ax.add_patch(main_triangle)\n",
    "\n",
    "plt.plot(*zip(tangent_1, tangent_2))\n",
    "ax.add_patch(Rectangle(tipp, 7, 7, fill=False, angle=math.degrees(-alpha_4)))\n",
    "\n",
    "AngleAnnotation(tipp, tangent_2, jig_ref, ax=ax, size=150, text=r\"$\\beta$\")\n",
    "AngleAnnotation(tipp, support_center, jig_ref, ax=ax, size=210, text=r\"$\\alpha$\")\n",
    "AngleAnnotation(tipp, axel_center, support_center, ax=ax, size=90, text=r\"$\\mu$\")\n",
    "AngleAnnotation(axel_center, support_center, tipp, ax=ax, size=100, text=r\"$\\alpha_2$\")\n",
    "AngleAnnotation(\n",
    "    axel_center,\n",
    "    (axel_center[0] + r, axel_center[1]),\n",
    "    support_center,\n",
    "    ax=ax, size=80, text=r\"$\\alpha_3$\"\n",
    ")\n",
    "AngleAnnotation(\n",
    "    axel_center,\n",
    "    tipp,\n",
    "    (axel_center[0] - r, axel_center[1]),\n",
    "    ax=ax, size=110, text=r\"$\\alpha_4$\"\n",
    ")\n",
    "AngleAnnotation(\n",
    "    tipp,\n",
    "    (min(-xo, axel_center[0]), axel_center[1]),\n",
    "    (max(-xo, axel_center[0]), axel_center[1]),\n",
    "    ax=ax, size=75, text=r\"$\\alpha_5$\"\n",
    ")\n",
    "AngleAnnotation(\n",
    "    tipp,\n",
    "    (jig_ref[0], min(jig_ref[1], tipp[1])),\n",
    "    (jig_ref[0], max(jig_ref[1], tipp[1])),\n",
    "    ax=ax, size=280, text=r\"$\\alpha_6$\"\n",
    ")\n",
    "\n",
    "plt.plot([axel_center[0] - r, max(support_center[0], axel_center[0] + r)], [tipp[1], tipp[1]], c='grey', linestyle='--')\n",
    "plt.plot([tipp[0], tipp[0]], [axel_center[1], axel_center[1] + tipp[1]], c='grey', linestyle='--')\n",
    "plt.plot([support_center[0], support_center[0]],\n",
    "         [axel_center[1], axel_center[1] + sx], c='grey', linestyle='--')\n",
    "plt.plot([jig_ref[0], jig_ref[0]],\n",
    "         [tipp[1], axel_center[1] +  jx], c='grey', linestyle='--')\n",
    "\n",
    "\n",
    "for spine_pos in ['left', 'bottom']:\n",
    "    ax.spines[spine_pos].set_position('zero')\n",
    "    ax.spines[spine_pos].set_linestyle('--')\n",
    "    ax.spines[spine_pos].set_color('gray')\n",
    "\n",
    "ax.spines['right'].set_color('none')\n",
    "ax.spines['bottom'].set_position('zero')\n",
    "ax.spines['top'].set_color('none')\n",
    "ax.yaxis.set_ticks([])\n",
    "ax.xaxis.set_ticks([])\n",
    "\n",
    "ax.set_ylim(bottom=-100)\n",
    "#ax.set_xlim(left=-75)\n",
    "# ax.set_xlim(right=52)\n",
    "\n",
    "\n"
   ]
  },
  {
   "cell_type": "code",
   "execution_count": 17,
   "id": "dbd82f7d",
   "metadata": {},
   "outputs": [
    {
     "name": "stdout",
     "output_type": "stream",
     "text": [
      "alpha_4 = 61.012666993827516\n",
      "alpha_5 = 28.98733300617248\n"
     ]
    }
   ],
   "source": [
    "print(\"alpha_4 =\", math.degrees(alpha_4))\n",
    "print(\"alpha_5 =\", math.degrees(alpha_5))"
   ]
  },
  {
   "cell_type": "code",
   "execution_count": 29,
   "id": "e6fd87cf",
   "metadata": {
    "lines_to_next_cell": 2
   },
   "outputs": [
    {
     "name": "stderr",
     "output_type": "stream",
     "text": [
      "/var/folders/lr/rp7ypv817j1_9clzx5v_rxt40000gp/T/ipykernel_82974/1519683931.py:18: UserWarning: Matplotlib is currently using module://matplotlib_inline.backend_inline, which is a non-GUI backend, so cannot show the figure.\n",
      "  fig.show()\n"
     ]
    },
    {
     "data": {
      "image/png": "[encoded data removed]",
      "text/plain": [
       "<Figure size 640x480 with 1 Axes>"
      ]
     },
     "metadata": {},
     "output_type": "display_data"
    }
   ],
   "source": [
    "import matplotlib as mpl\n",
    "\n",
    "points = [axel_center, support_center, tipp, jig_ref]\n",
    "\n",
    "fig, ax = plt.subplots()\n",
    "ax.set_aspect('equal')\n",
    "jig1 = mpatches.PathPatch(jig_path(tipp, l_p, alpha_6, d_j/2, d_s/2), alpha=0.4, color='grey')\n",
    "jig2 = mpatches.PathPatch(jig_path(tipp, l_p, alpha_6, d_j/2, d_s/2), alpha=0.4, color='red')\n",
    "ax.add_patch(jig1)\n",
    "plt.scatter(*zip(*points), s=10, marker=\".\", c='black')\n",
    "            \n",
    "r = mpl.transforms.Affine2D().rotate(-45)\n",
    "t = mpl.transforms.Affine2D().translate(4, 5)\n",
    "tra = r + t + ax.transData\n",
    "jig2.set_transform(tra)\n",
    "ax.add_patch(jig2)\n",
    "\n",
    "fig.show()"
   ]
  },
  {
   "cell_type": "code",
   "execution_count": null,
   "id": "31d66f32",
   "metadata": {},
   "outputs": [],
   "source": []
  }
 ],
 "metadata": {
  "jupytext": {
   "formats": "ipynb,py:percent"
  },
  "kernelspec": {
   "display_name": "Python 3 (ipykernel)",
   "language": "python",
   "name": "python3"
  },
  "language_info": {
   "codemirror_mode": {
    "name": "ipython",
    "version": 3
   },
   "file_extension": ".py",
   "mimetype": "text/x-python",
   "name": "python",
   "nbconvert_exporter": "python",
   "pygments_lexer": "ipython3",
   "version": "3.10.9"
  }
 },
 "nbformat": 4,
 "nbformat_minor": 5
}
